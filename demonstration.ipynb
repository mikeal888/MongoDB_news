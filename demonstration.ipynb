{
 "cells": [
  {
   "cell_type": "markdown",
   "metadata": {},
   "source": [
    "# Pulling News and storing it on a MongoDB database"
   ]
  },
  {
   "cell_type": "code",
   "execution_count": 2,
   "metadata": {},
   "outputs": [],
   "source": [
    "from newsapi import NewsApiClient\n",
    "from pymongo import MongoClient\n",
    "from _utils import *\n",
    "from datetime import datetime"
   ]
  },
  {
   "cell_type": "markdown",
   "metadata": {},
   "source": [
    "##### Step 1. Using NewsApi to pull news articles\n",
    "\n",
    "Begin by reading in your own personal api key for NewsApi. You can get one for free at https://newsapi.org/, but it is limited with the number of calls you can make per day."
   ]
  },
  {
   "cell_type": "code",
   "execution_count": 3,
   "metadata": {},
   "outputs": [],
   "source": [
    "with open(\"credentials/api_key.txt\") as f:\n",
    "    api_key = f.read()"
   ]
  },
  {
   "cell_type": "markdown",
   "metadata": {},
   "source": [
    "Now we can use our api key to pull news from the NewsApi. We will be pulling news from the last 30 days. Note the page size is set to 100, which is the maximum number of articles you can pull per call. Here we will pull down all news stories that mention the word \"Google\".\n",
    "\n",
    "Note you will have to change the dates since the free api only allows you to access news articles that are a month old."
   ]
  },
  {
   "cell_type": "code",
   "execution_count": 6,
   "metadata": {},
   "outputs": [
    {
     "data": {
      "text/plain": [
       "{'title': 'Let Google Check Your Grammar For You',\n",
       " 'media': 'Lifehacker.com',\n",
       " 'date': '2023-08-07',\n",
       " 'url': 'https://lifehacker.com/let-google-check-your-grammar-for-you-1850712771'}"
      ]
     },
     "execution_count": 6,
     "metadata": {},
     "output_type": "execute_result"
    }
   ],
   "source": [
    "query = 'Google'\n",
    "start_date = datetime(2023, 8, 1).strftime('%Y-%m-%d')\n",
    "end_date = datetime(2023, 8, 31).strftime('%Y-%m-%d')\n",
    "\n",
    "# create our custom `GetNews` class\n",
    "news = GetNews(api_key, query, start_date, end_date)\n",
    "\n",
    "# get all the downloaded articles\n",
    "news_list = news.get_articles()\n",
    "\n",
    "# get the first article\n",
    "news_list[0]"
   ]
  },
  {
   "cell_type": "markdown",
   "metadata": {},
   "source": [
    "We can see that here we have pulled out only the relevant information from the json file. We have the title, description, url, and date of publication. We will be using this information to create a database of news articles.\n",
    "\n",
    "#### Step 2: Saving to MongoDB\n",
    "\n",
    "With our news articles downloaded we can easily save this information to a MongoDB database. We will be using the pymongo library to do this. First we will create a connection to our database. Note that you will have to change the name of the database to whatever you want to call it. You will need to have mongodb installed on your computer to do this. You can find instructions on how to do this here: https://docs.mongodb.com/manual/installation/. \n",
    "\n",
    "There is plenty of great resources to learn about MongoDB on youtube too"
   ]
  },
  {
   "cell_type": "code",
   "execution_count": null,
   "metadata": {},
   "outputs": [],
   "source": [
    "# load in the mongo server string\n",
    "with open(\"credentials/mongo_client.txt\") as f:\n",
    "    mongo_client = f.read()\n",
    "\n",
    "# specify the database and collection names\n",
    "db_name = \"stock_data\"\n",
    "collection_name = \"news\"\n",
    "\n",
    "# add the articles to the database\n",
    "news.add_to_db(mongo_client, db_name, collection_name)"
   ]
  },
  {
   "cell_type": "markdown",
   "metadata": {},
   "source": [
    "Super easy! I have also incoorporated some useful functionality to handle duplicates so the same article is not saved twice."
   ]
  },
  {
   "cell_type": "markdown",
   "metadata": {},
   "source": []
  }
 ],
 "metadata": {
  "kernelspec": {
   "display_name": "kaggle",
   "language": "python",
   "name": "python3"
  },
  "language_info": {
   "codemirror_mode": {
    "name": "ipython",
    "version": 3
   },
   "file_extension": ".py",
   "mimetype": "text/x-python",
   "name": "python",
   "nbconvert_exporter": "python",
   "pygments_lexer": "ipython3",
   "version": "3.10.9"
  },
  "orig_nbformat": 4
 },
 "nbformat": 4,
 "nbformat_minor": 2
}
