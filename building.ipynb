{
 "cells": [
  {
   "cell_type": "markdown",
   "metadata": {},
   "source": [
    "# Notebook for building and testing"
   ]
  },
  {
   "cell_type": "code",
   "execution_count": 1,
   "metadata": {},
   "outputs": [],
   "source": [
    "from newsapi import NewsApiClient\n",
    "from _utils import *\n"
   ]
  },
  {
   "cell_type": "code",
   "execution_count": 4,
   "metadata": {},
   "outputs": [],
   "source": [
    "with open(\"credentials/api_key.txt\") as f:\n",
    "    api_key = f.read()\n",
    "\n",
    "with open(\"credentials/mongo_client.txt\") as f:\n",
    "    mongo_client = f.read()\n",
    "\n",
    "db_name = \"stock_data\"\n",
    "collection_name = \"news\"\n",
    "\n",
    "start_date = datetime(2023, 8, 1).strftime('%Y-%m-%d')\n",
    "end_date = datetime(2023, 8, 31).strftime('%Y-%m-%d')\n",
    "query = 'Google'\n",
    "\n",
    "news = GetNews(api_key, query, start_date, end_date)\n",
    "news_list = news.get_articles()\n",
    "news.add_to_db(mongo_client, db_name, collection_name)"
   ]
  },
  {
   "cell_type": "code",
   "execution_count": 9,
   "metadata": {},
   "outputs": [],
   "source": [
    "db = client[db_name]\n",
    "collection = db[collection_name]"
   ]
  },
  {
   "cell_type": "code",
   "execution_count": 30,
   "metadata": {},
   "outputs": [],
   "source": [
    "# find duplicates and remove them\n",
    "duplicates = collection.aggregate([\n",
    "    # group on title and media\n",
    "    {\"$group\": {\"_id\": \"$title\", \"count\": {\"$sum\": 1}}},\n",
    "    {\"$match\": {\"count\": {\"$gt\": 1}}}\n",
    "])\n",
    "\n",
    "for doc in duplicates:\n",
    "    title = doc['_id']\n",
    "    collection.delete_one({\"title\": title})\n",
    "\n"
   ]
  },
  {
   "cell_type": "code",
   "execution_count": null,
   "metadata": {},
   "outputs": [],
   "source": []
  }
 ],
 "metadata": {
  "kernelspec": {
   "display_name": "kaggle",
   "language": "python",
   "name": "python3"
  },
  "language_info": {
   "codemirror_mode": {
    "name": "ipython",
    "version": 3
   },
   "file_extension": ".py",
   "mimetype": "text/x-python",
   "name": "python",
   "nbconvert_exporter": "python",
   "pygments_lexer": "ipython3",
   "version": "3.10.9"
  },
  "orig_nbformat": 4
 },
 "nbformat": 4,
 "nbformat_minor": 2
}
